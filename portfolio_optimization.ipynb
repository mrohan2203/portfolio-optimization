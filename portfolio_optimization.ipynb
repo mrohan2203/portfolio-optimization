{
 "cells": [
  {
   "cell_type": "markdown",
   "id": "07aa8c1e-b168-416a-97b1-4d4dc21fb4c4",
   "metadata": {},
   "source": [
    "## Portfolio Optimization"
   ]
  },
  {
   "cell_type": "markdown",
   "id": "4c9eb683-fa21-4ccf-a44b-0c39f2d3124e",
   "metadata": {},
   "source": [
    "The objective of this project is to develop an optimization model that allocates investments across a portfolio that maximizes return and minimizes risk."
   ]
  },
  {
   "cell_type": "markdown",
   "id": "acfb574b-b1f7-44a9-9aac-aff5451f96c8",
   "metadata": {},
   "source": [
    "This return-risk tradeoff is done using Mean-Variance Optimization (MVO).\n",
    "MVO focuses on creating a portfolio that maximizes return (Mean) when risk is given, and minimizes risk (Variance or Standard Deviation) when return is given."
   ]
  },
  {
   "cell_type": "markdown",
   "id": "12ff5201-9d33-44ac-ac65-b5200f1bf419",
   "metadata": {},
   "source": [
    "We later plot a curve representing a set of optimal portfolios, offering highest expected return for a given level of risk."
   ]
  },
  {
   "cell_type": "markdown",
   "id": "86950e3c-aeaf-46c5-9e58-1836f458e371",
   "metadata": {},
   "source": [
    "We then use Sharpe Ratio to calculates the return of an investment compared to its risk.\n",
    "The formula is as follows:\n",
    "\n",
    "$$ Sharpe Ratio = \\frac{{R_p} - {R_f}}{{\\sigma_p}} $$"
   ]
  },
  {
   "cell_type": "markdown",
   "id": "f880a750-dd37-4ec7-baa0-fe197f667078",
   "metadata": {},
   "source": [
    "where\n",
    "\n",
    "Rp - average return of the portfolio or investment\n",
    "\n",
    "Rf - risk free rate of return (return of an investment over a time period with zero risk)\n",
    "\n",
    "sigma - standard deviation of the portfolio or investment"
   ]
  },
  {
   "cell_type": "markdown",
   "id": "5ef21c1e-1550-4423-9583-3a8adb9b1ffa",
   "metadata": {},
   "source": [
    "## 1. Data Collection"
   ]
  },
  {
   "cell_type": "code",
   "execution_count": 1,
   "id": "97792eb6-04b2-4c6e-917f-3f5f97688b0c",
   "metadata": {
    "tags": []
   },
   "outputs": [
    {
     "name": "stdout",
     "output_type": "stream",
     "text": [
      "Requirement already satisfied: quandl in /Users/rohanmuru/anaconda3/lib/python3.11/site-packages (3.7.0)\n",
      "Requirement already satisfied: pandas>=0.14 in /Users/rohanmuru/anaconda3/lib/python3.11/site-packages (from quandl) (2.0.3)\n",
      "Requirement already satisfied: numpy>=1.8 in /Users/rohanmuru/anaconda3/lib/python3.11/site-packages (from quandl) (1.24.3)\n",
      "Requirement already satisfied: requests>=2.7.0 in /Users/rohanmuru/anaconda3/lib/python3.11/site-packages (from quandl) (2.31.0)\n",
      "Requirement already satisfied: inflection>=0.3.1 in /Users/rohanmuru/anaconda3/lib/python3.11/site-packages (from quandl) (0.5.1)\n",
      "Requirement already satisfied: python-dateutil in /Users/rohanmuru/anaconda3/lib/python3.11/site-packages (from quandl) (2.8.2)\n",
      "Requirement already satisfied: six in /Users/rohanmuru/anaconda3/lib/python3.11/site-packages (from quandl) (1.16.0)\n",
      "Requirement already satisfied: more-itertools in /Users/rohanmuru/anaconda3/lib/python3.11/site-packages (from quandl) (8.12.0)\n",
      "Requirement already satisfied: pytz>=2020.1 in /Users/rohanmuru/anaconda3/lib/python3.11/site-packages (from pandas>=0.14->quandl) (2023.3.post1)\n",
      "Requirement already satisfied: tzdata>=2022.1 in /Users/rohanmuru/anaconda3/lib/python3.11/site-packages (from pandas>=0.14->quandl) (2023.3)\n",
      "Requirement already satisfied: charset-normalizer<4,>=2 in /Users/rohanmuru/anaconda3/lib/python3.11/site-packages (from requests>=2.7.0->quandl) (2.0.4)\n",
      "Requirement already satisfied: idna<4,>=2.5 in /Users/rohanmuru/anaconda3/lib/python3.11/site-packages (from requests>=2.7.0->quandl) (3.4)\n",
      "Requirement already satisfied: urllib3<3,>=1.21.1 in /Users/rohanmuru/anaconda3/lib/python3.11/site-packages (from requests>=2.7.0->quandl) (1.26.16)\n",
      "Requirement already satisfied: certifi>=2017.4.17 in /Users/rohanmuru/anaconda3/lib/python3.11/site-packages (from requests>=2.7.0->quandl) (2023.11.17)\n"
     ]
    }
   ],
   "source": [
    "#quandl - a library that has access to a vast amount of financial and economical data\n",
    "!pip3 install quandl"
   ]
  },
  {
   "cell_type": "code",
   "execution_count": 2,
   "id": "f4246c4c-1460-47c3-88ae-ba844fbbc8f2",
   "metadata": {
    "tags": []
   },
   "outputs": [],
   "source": [
    "#importing the necessary libraries\n",
    "import quandl as ql\n",
    "import pandas as pd"
   ]
  },
  {
   "cell_type": "code",
   "execution_count": 3,
   "id": "e8f542dc-34d2-495f-8873-0592c608cae9",
   "metadata": {
    "tags": []
   },
   "outputs": [],
   "source": [
    "#setting the API configuration key\n",
    "#create a NASDAQ account to get the API key\n",
    "ql.ApiConfig.api_key = 'RW8B74o8_zaSoaZTgziM'"
   ]
  },
  {
   "cell_type": "code",
   "execution_count": 4,
   "id": "c9304b75-8154-4757-8dec-e6d60ca25613",
   "metadata": {
    "tags": []
   },
   "outputs": [],
   "source": [
    "#list of tickers\n",
    "#tickers refer to how a particular stock is addressed\n",
    "tickers = ['WIKI/MSFT','WIKI/AAPL','WIKI/NVDA','WIKI/GOOGL','WIKI/AMZN']\n",
    "data = pd.DataFrame()"
   ]
  },
  {
   "cell_type": "code",
   "execution_count": 5,
   "id": "01948b2b-b9ac-4e6c-8e1f-ea86a56325d7",
   "metadata": {
    "tags": []
   },
   "outputs": [],
   "source": [
    "#fetching data from Quandl\n",
    "for ticker in tickers:\n",
    "    df = ql.get(ticker, start_date = '2018-01-01', end_date = '2024-01-01')\n",
    "    data[ticker.split('/')[1]] = df['Adj. Close']"
   ]
  },
  {
   "cell_type": "code",
   "execution_count": 6,
   "id": "3b2db35f-d058-484e-9b4f-02432276adb1",
   "metadata": {
    "tags": []
   },
   "outputs": [
    {
     "data": {
      "text/html": [
       "<div>\n",
       "<style scoped>\n",
       "    .dataframe tbody tr th:only-of-type {\n",
       "        vertical-align: middle;\n",
       "    }\n",
       "\n",
       "    .dataframe tbody tr th {\n",
       "        vertical-align: top;\n",
       "    }\n",
       "\n",
       "    .dataframe thead th {\n",
       "        text-align: right;\n",
       "    }\n",
       "</style>\n",
       "<table border=\"1\" class=\"dataframe\">\n",
       "  <thead>\n",
       "    <tr style=\"text-align: right;\">\n",
       "      <th></th>\n",
       "      <th>MSFT</th>\n",
       "      <th>AAPL</th>\n",
       "      <th>NVDA</th>\n",
       "      <th>GOOGL</th>\n",
       "      <th>AMZN</th>\n",
       "    </tr>\n",
       "    <tr>\n",
       "      <th>Date</th>\n",
       "      <th></th>\n",
       "      <th></th>\n",
       "      <th></th>\n",
       "      <th></th>\n",
       "      <th></th>\n",
       "    </tr>\n",
       "  </thead>\n",
       "  <tbody>\n",
       "    <tr>\n",
       "      <th>2018-01-02</th>\n",
       "      <td>85.95</td>\n",
       "      <td>172.26</td>\n",
       "      <td>199.35</td>\n",
       "      <td>1073.21</td>\n",
       "      <td>1189.01</td>\n",
       "    </tr>\n",
       "    <tr>\n",
       "      <th>2018-01-03</th>\n",
       "      <td>86.35</td>\n",
       "      <td>172.23</td>\n",
       "      <td>212.47</td>\n",
       "      <td>1091.52</td>\n",
       "      <td>1204.20</td>\n",
       "    </tr>\n",
       "    <tr>\n",
       "      <th>2018-01-04</th>\n",
       "      <td>87.11</td>\n",
       "      <td>173.03</td>\n",
       "      <td>213.59</td>\n",
       "      <td>1095.76</td>\n",
       "      <td>1209.59</td>\n",
       "    </tr>\n",
       "    <tr>\n",
       "      <th>2018-01-05</th>\n",
       "      <td>88.19</td>\n",
       "      <td>175.00</td>\n",
       "      <td>215.40</td>\n",
       "      <td>1110.29</td>\n",
       "      <td>1229.14</td>\n",
       "    </tr>\n",
       "    <tr>\n",
       "      <th>2018-01-08</th>\n",
       "      <td>88.28</td>\n",
       "      <td>174.35</td>\n",
       "      <td>222.00</td>\n",
       "      <td>1114.21</td>\n",
       "      <td>1246.87</td>\n",
       "    </tr>\n",
       "  </tbody>\n",
       "</table>\n",
       "</div>"
      ],
      "text/plain": [
       "             MSFT    AAPL    NVDA    GOOGL     AMZN\n",
       "Date                                               \n",
       "2018-01-02  85.95  172.26  199.35  1073.21  1189.01\n",
       "2018-01-03  86.35  172.23  212.47  1091.52  1204.20\n",
       "2018-01-04  87.11  173.03  213.59  1095.76  1209.59\n",
       "2018-01-05  88.19  175.00  215.40  1110.29  1229.14\n",
       "2018-01-08  88.28  174.35  222.00  1114.21  1246.87"
      ]
     },
     "execution_count": 6,
     "metadata": {},
     "output_type": "execute_result"
    }
   ],
   "source": [
    "#first 5 rows of data\n",
    "data.head()"
   ]
  },
  {
   "cell_type": "markdown",
   "id": "b7f2e4a4-56c3-4705-be7b-6e84a9264ad9",
   "metadata": {},
   "source": [
    "## 2. Data preprocessing "
   ]
  },
  {
   "cell_type": "code",
   "execution_count": 7,
   "id": "e902b4e3-63e9-470b-8a90-97f564600972",
   "metadata": {
    "tags": []
   },
   "outputs": [
    {
     "data": {
      "text/plain": [
       "MSFT     0\n",
       "AAPL     0\n",
       "NVDA     0\n",
       "GOOGL    0\n",
       "AMZN     0\n",
       "dtype: int64"
      ]
     },
     "execution_count": 7,
     "metadata": {},
     "output_type": "execute_result"
    }
   ],
   "source": [
    "data.isna().sum()"
   ]
  },
  {
   "cell_type": "code",
   "execution_count": 8,
   "id": "ab6f52ce-75a4-486e-9ccc-4dad2890d504",
   "metadata": {
    "tags": []
   },
   "outputs": [
    {
     "name": "stdout",
     "output_type": "stream",
     "text": [
      "                MSFT      AAPL      NVDA     GOOGL      AMZN\n",
      "Date                                                        \n",
      "2018-01-03  0.004654 -0.000174  0.065814  0.017061  0.012775\n",
      "2018-01-04  0.008801  0.004645  0.005271  0.003884  0.004476\n",
      "2018-01-05  0.012398  0.011385  0.008474  0.013260  0.016163\n",
      "2018-01-08  0.001021 -0.003714  0.030641  0.003531  0.014425\n",
      "2018-01-09 -0.000680 -0.000115 -0.000270 -0.001274  0.004676\n"
     ]
    }
   ],
   "source": [
    "#to calculate returns, we find the pct change in the stock value\n",
    "returns = data.pct_change().dropna()\n",
    "print(returns.head())"
   ]
  },
  {
   "cell_type": "markdown",
   "id": "44b38953-8f73-421d-9e28-a5bed2e493a3",
   "metadata": {},
   "source": [
    "## 3. Expected Returns and Covariance Matrix"
   ]
  },
  {
   "cell_type": "markdown",
   "id": "504ca504-2b4e-4645-9d2d-252703f979d6",
   "metadata": {},
   "source": [
    "Expected returns is the mean of probability distribution of possible returns of an asset.\n",
    "In simple words, it is the average return an investor might expect over a given period.\n",
    "\n",
    "For a series of historical returns, Ri\n",
    "\n",
    "$$ E(R) = (1/n)*\\sum_{i=1}^n {R_i} $$\n",
    "\n",
    "where\n",
    "\n",
    "n - number of periods\n",
    "\n",
    "Annually,\n",
    "\n",
    "$$ E({R_a}) = E({R_d}) * 252 $$\n",
    "\n",
    "(assuming there are 252 trading days per year)\n",
    "and a - annual, and d - daily"
   ]
  },
  {
   "cell_type": "code",
   "execution_count": 9,
   "id": "c6efb758-d83f-4b0b-ac60-13a094ff00ca",
   "metadata": {
    "tags": []
   },
   "outputs": [],
   "source": [
    "expected_returns = returns.mean() * 252"
   ]
  },
  {
   "cell_type": "code",
   "execution_count": 10,
   "id": "1fa9c638-8f7e-440f-bfd4-ad036799469f",
   "metadata": {
    "tags": []
   },
   "outputs": [
    {
     "data": {
      "text/plain": [
       "MSFT     0.223812\n",
       "AAPL    -0.064951\n",
       "NVDA     0.637729\n",
       "GOOGL   -0.229191\n",
       "AMZN     1.045849\n",
       "dtype: float64"
      ]
     },
     "execution_count": 10,
     "metadata": {},
     "output_type": "execute_result"
    }
   ],
   "source": [
    "expected_returns"
   ]
  },
  {
   "cell_type": "markdown",
   "id": "330f20d4-37a7-49a0-b242-7772a79638d3",
   "metadata": {},
   "source": [
    "The Covariance matrix captures the relation between pairs of assets in a portfolio.\n",
    "\n",
    "It is used to understand the risk and diversification benefits of owning different assets together.\n",
    "\n",
    "Also for assessing overall portfolio risk and optimizing the portfolio to achieve best return-risk tradeoff (Mean Variance optimization)."
   ]
  },
  {
   "cell_type": "markdown",
   "id": "b35ea0be-f46c-4a53-89ec-0464a4e602e9",
   "metadata": {},
   "source": [
    "For any two assets **X** and **Y**:\n",
    "\n",
    "$$ Cov(X,Y) = \\frac{1}{n-1}*\\sum_{i=1}^n ({X_i} - \\bar{X}) * ({Y_i} - \\bar{Y}) $$"
   ]
  },
  {
   "cell_type": "markdown",
   "id": "52e251c8-850c-4dd0-9a3e-5c8d092e2a0a",
   "metadata": {},
   "source": [
    "Annually,\n",
    "\n",
    "$$ \\sum_{annual} = \\sum_{daily} * 252 $$"
   ]
  },
  {
   "cell_type": "code",
   "execution_count": 11,
   "id": "11b819f0-4837-47c5-a626-eaa70d0067b4",
   "metadata": {
    "tags": []
   },
   "outputs": [],
   "source": [
    "cov_matrix = returns.cov() * 252"
   ]
  },
  {
   "cell_type": "code",
   "execution_count": 12,
   "id": "5d38fc60-57ef-4dc1-ad7a-ba8d6f32aeea",
   "metadata": {
    "tags": []
   },
   "outputs": [
    {
     "name": "stdout",
     "output_type": "stream",
     "text": [
      "Expected Returns: \n",
      " MSFT     0.223812\n",
      "AAPL    -0.064951\n",
      "NVDA     0.637729\n",
      "GOOGL   -0.229191\n",
      "AMZN     1.045849\n",
      "dtype: float64\n",
      "Covariance Matrix: \n",
      "            MSFT      AAPL      NVDA     GOOGL      AMZN\n",
      "MSFT   0.100896  0.065526  0.107491  0.082063  0.062494\n",
      "AAPL   0.065526  0.071623  0.065734  0.058318  0.041918\n",
      "NVDA   0.107491  0.065734  0.204303  0.105453  0.081165\n",
      "GOOGL  0.082063  0.058318  0.105453  0.095531  0.054756\n",
      "AMZN   0.062494  0.041918  0.081165  0.054756  0.086939\n"
     ]
    }
   ],
   "source": [
    "print(f'Expected Returns: \\n {expected_returns}')\n",
    "print(f'Covariance Matrix: \\n {cov_matrix}')"
   ]
  },
  {
   "cell_type": "markdown",
   "id": "7fd54efb-23a7-45ed-a034-e79489e0edd8",
   "metadata": {},
   "source": [
    "## 4. Optimization Problem"
   ]
  },
  {
   "cell_type": "code",
   "execution_count": 13,
   "id": "4727321a-a9ab-45a9-ad22-4152b9d9a396",
   "metadata": {
    "tags": []
   },
   "outputs": [
    {
     "name": "stdout",
     "output_type": "stream",
     "text": [
      "Requirement already satisfied: cvxpy in /Users/rohanmuru/anaconda3/lib/python3.11/site-packages (1.5.1)\n",
      "Requirement already satisfied: osqp>=0.6.2 in /Users/rohanmuru/anaconda3/lib/python3.11/site-packages (from cvxpy) (0.6.5)\n",
      "Requirement already satisfied: ecos>=2 in /Users/rohanmuru/anaconda3/lib/python3.11/site-packages (from cvxpy) (2.0.13)\n",
      "Requirement already satisfied: clarabel>=0.5.0 in /Users/rohanmuru/anaconda3/lib/python3.11/site-packages (from cvxpy) (0.7.1)\n",
      "Requirement already satisfied: scs>=3.2.4.post1 in /Users/rohanmuru/anaconda3/lib/python3.11/site-packages (from cvxpy) (3.2.4.post1)\n",
      "Requirement already satisfied: numpy>=1.15 in /Users/rohanmuru/anaconda3/lib/python3.11/site-packages (from cvxpy) (1.24.3)\n",
      "Requirement already satisfied: scipy>=1.1.0 in /Users/rohanmuru/anaconda3/lib/python3.11/site-packages (from cvxpy) (1.11.1)\n",
      "Requirement already satisfied: qdldl in /Users/rohanmuru/anaconda3/lib/python3.11/site-packages (from osqp>=0.6.2->cvxpy) (0.1.7.post2)\n"
     ]
    }
   ],
   "source": [
    "#to solve convex optimization problems\n",
    "!pip3 install cvxpy"
   ]
  },
  {
   "cell_type": "code",
   "execution_count": 14,
   "id": "4d526edb-3757-4886-9651-b23f575d2c76",
   "metadata": {
    "tags": []
   },
   "outputs": [
    {
     "name": "stdout",
     "output_type": "stream",
     "text": [
      "Optimal weights: \n",
      " [6.91423404e-24 1.22231870e-22 5.88102104e-23 8.69803007e-24\n",
      " 1.00000000e+00]\n"
     ]
    }
   ],
   "source": [
    "import cvxpy as cp\n",
    "\n",
    "#number of assets\n",
    "n_assets = len(tickers)\n",
    "\n",
    "#defining asset weights\n",
    "weights = cp.Variable(n_assets)\n",
    "\n",
    "#our objective is to maximize the difference between return and risk aversion times the risk\n",
    "#risk aversion is synonymous to risk tolerance by the investor\n",
    "risk_aversion = 1\n",
    "\n",
    "#to perform matrix multiplication\n",
    "expected_returns_array = expected_returns.values\n",
    "portfolio_return = expected_returns_array @ weights\n",
    "\n",
    "#to bring it to quadractic terms\n",
    "portfolio_risk = cp.quad_form(weights, cov_matrix)\n",
    "\n",
    "objective = cp.Maximize(portfolio_return - risk_aversion * portfolio_risk)\n",
    "\n",
    "#define the constraints\n",
    "#the weights should be positive (0 included) and its sum should be equal to 1\n",
    "constraints = [cp.sum(weights) == 1, weights >= 0]\n",
    "\n",
    "#define and solve the optimization problem\n",
    "problem = cp.Problem(objective, constraints)\n",
    "problem.solve()\n",
    "\n",
    "#to extract the optimal weights\n",
    "optimal_weights = weights.value\n",
    "print(f'Optimal weights: \\n {optimal_weights}')"
   ]
  },
  {
   "cell_type": "markdown",
   "id": "b01f96dd-36cc-49fb-be6e-ef268024a0b1",
   "metadata": {},
   "source": [
    "## 5. Portfolio Performance Evaluation"
   ]
  },
  {
   "cell_type": "markdown",
   "id": "20fd10a6-469a-4072-8b21-15bbb5387d1d",
   "metadata": {},
   "source": [
    "Evaluate the performance of the portfolio using cumulative returns."
   ]
  },
  {
   "cell_type": "code",
   "execution_count": 15,
   "id": "9eb6d8d9-946f-4765-afec-96672767f651",
   "metadata": {
    "tags": []
   },
   "outputs": [],
   "source": [
    "#calculate portfolio returns\n",
    "portfolio_returns = returns @ optimal_weights\n",
    "\n",
    "#calculate cumulative returns\n",
    "#cumprod() gives the cumulative product of elements along an axis\n",
    "cumulative_returns = (1 + portfolio_returns).cumprod()"
   ]
  },
  {
   "cell_type": "code",
   "execution_count": 16,
   "id": "7eb7dfec-72e6-4865-aa55-f79eac24cd34",
   "metadata": {
    "tags": []
   },
   "outputs": [
    {
     "data": {
      "image/png": "[encoded data removed]",
      "text/plain": [
       "<Figure size 640x480 with 1 Axes>"
      ]
     },
     "metadata": {},
     "output_type": "display_data"
    }
   ],
   "source": [
    "#plotting cumulative returns\n",
    "import matplotlib.pyplot as plt\n",
    "\n",
    "cumulative_returns.plot(title = 'Cumulative Returns of Optimized Portfolio')\n",
    "plt.xlabel('Date')\n",
    "plt.ylabel('Cumulative Return')\n",
    "plt.show()"
   ]
  },
  {
   "cell_type": "markdown",
   "id": "c5bdc5e7-e01e-42ee-840f-f60b72c75af3",
   "metadata": {},
   "source": [
    "## 6. Visualize the Efficient Frontier"
   ]
  },
  {
   "cell_type": "markdown",
   "id": "bf3bffb2-a2f1-47d8-b514-9303026e3840",
   "metadata": {},
   "source": [
    "The efficient frontier represents a set of optimal portfolios that give the highest return for a given level of risk, and the lowest risk for the given level of expected return."
   ]
  },
  {
   "cell_type": "markdown",
   "id": "d0578779-7710-4961-a78d-c9e7615718ba",
   "metadata": {},
   "source": [
    "These portfolios are 'efficient' because they're well-balanced (Mean-Variance Optimization i.e., Return-risk tradeoff)."
   ]
  },
  {
   "cell_type": "code",
   "execution_count": 17,
   "id": "c7862653-2090-4900-a279-0196d1402d3f",
   "metadata": {
    "tags": []
   },
   "outputs": [],
   "source": [
    "import numpy as np"
   ]
  },
  {
   "cell_type": "code",
   "execution_count": 19,
   "id": "15032272-8543-4fa1-81c0-dc01a32591fd",
   "metadata": {
    "tags": []
   },
   "outputs": [
    {
     "data": {
      "image/png": "[encoded data removed]",
      "text/plain": [
       "<Figure size 640x480 with 1 Axes>"
      ]
     },
     "metadata": {},
     "output_type": "display_data"
    }
   ],
   "source": [
    "#to generate random portfolios\n",
    "n_portfolios = 10000\n",
    "risk_data = []\n",
    "return_data = []\n",
    "\n",
    "for _ in range(n_portfolios):\n",
    "    random_weights = np.random.random(n_assets)\n",
    "    random_weights /= np.sum(random_weights)\n",
    "    risk = np.sqrt(random_weights.T @ cov_matrix @ random_weights)\n",
    "    return_ = random_weights @ expected_returns\n",
    "    risk_data.append(risk)\n",
    "    return_data.append(return_)\n",
    "    \n",
    "#to plot the Efficient Frontier\n",
    "plt.scatter(risk_data, return_data, c = 'blue', marker = 'o', s = 10)\n",
    "plt.scatter(np.sqrt(portfolio_risk.value), portfolio_return.value, c = 'red', marker = '*', s = 100)\n",
    "plt.xlabel('Risk or Standard Deviation')\n",
    "plt.ylabel('Return')\n",
    "plt.title('Efficient Frontier')\n",
    "plt.show()"
   ]
  },
  {
   "cell_type": "markdown",
   "id": "c9987eb6-b355-4aaf-a328-8f908f04632a",
   "metadata": {},
   "source": [
    "## 7. Sharpe Ratio"
   ]
  },
  {
   "cell_type": "markdown",
   "id": "b8db7f6b-06ce-45de-8d0a-fa1f2f8f791c",
   "metadata": {},
   "source": [
    "To estimate the optimized portfolio, we calculate the Sharpe Ratio."
   ]
  },
  {
   "cell_type": "markdown",
   "id": "de7e6c30-7b9a-4ece-b53d-5ea452617720",
   "metadata": {},
   "source": [
    "Higher the Sharpe Ratio, better is the return to risk ratio."
   ]
  },
  {
   "cell_type": "markdown",
   "id": "47fe8f52-4f62-4ee7-b9e9-686f756d2ae9",
   "metadata": {},
   "source": [
    "It is an indication that it is more safer to invest in that particular stock."
   ]
  },
  {
   "cell_type": "code",
   "execution_count": 21,
   "id": "c38017bb-0843-4c4f-925f-149f1547c559",
   "metadata": {
    "tags": []
   },
   "outputs": [
    {
     "name": "stdout",
     "output_type": "stream",
     "text": [
      "Sharpe Ratio: 3.48\n"
     ]
    }
   ],
   "source": [
    "#define the risk-free rate\n",
    "#we assume that it is at 2%\n",
    "risk_free_rate = 0.02\n",
    "\n",
    "#calculating the Sharpe Ratio\n",
    "sharpe_ratio = (portfolio_return.value - risk_free_rate) / np.sqrt(portfolio_risk.value)\n",
    "print(f'Sharpe Ratio: {round(sharpe_ratio, 2)}')"
   ]
  },
  {
   "cell_type": "markdown",
   "id": "2bef6343-2412-4810-a121-7e9b82667773",
   "metadata": {},
   "source": [
    "A Sharpe Ratio of greater than 3 indicates that the risk-adjusted return is excellent."
   ]
  }
 ],
 "metadata": {
  "kernelspec": {
   "display_name": "Python 3 (ipykernel)",
   "language": "python",
   "name": "python3"
  },
  "language_info": {
   "codemirror_mode": {
    "name": "ipython",
    "version": 3
   },
   "file_extension": ".py",
   "mimetype": "text/x-python",
   "name": "python",
   "nbconvert_exporter": "python",
   "pygments_lexer": "ipython3",
   "version": "3.11.5"
  }
 },
 "nbformat": 4,
 "nbformat_minor": 5
}
